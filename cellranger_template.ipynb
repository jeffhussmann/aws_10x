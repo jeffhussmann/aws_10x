{
 "cells": [
  {
   "cell_type": "code",
   "execution_count": null,
   "metadata": {},
   "outputs": [],
   "source": [
    "import subprocess\n",
    "import boto3\n",
    "\n",
    "ec2 = boto3.resource('ec2')"
   ]
  },
  {
   "cell_type": "code",
   "execution_count": null,
   "metadata": {},
   "outputs": [],
   "source": [
    "sample_sheet = pd.read_csv('REDACTED', index_col='Sample_ID')"
   ]
  },
  {
   "cell_type": "code",
   "execution_count": null,
   "metadata": {},
   "outputs": [],
   "source": [
    "samples_to_run = sample_sheet.index"
   ]
  },
  {
   "cell_type": "code",
   "execution_count": null,
   "metadata": {},
   "outputs": [],
   "source": [
    "data_prefix = 'REDACTED'"
   ]
  },
  {
   "cell_type": "code",
   "execution_count": null,
   "metadata": {},
   "outputs": [],
   "source": [
    "print(f'Launching {len(samples_to_run)} new instances')\n",
    "\n",
    "new_instances = ec2.create_instances(\n",
    "    ImageId='REDACTED',\n",
    "    KeyName='REDACTED',\n",
    "    SecurityGroups=['REDACTED'],\n",
    "    InstanceType='i3.2xlarge',\n",
    "    MinCount=len(samples_to_run),\n",
    "    MaxCount=len(samples_to_run),\n",
    "    InstanceInitiatedShutdownBehavior='terminate',\n",
    ")"
   ]
  },
  {
   "cell_type": "code",
   "execution_count": null,
   "metadata": {},
   "outputs": [],
   "source": [
    "for instance in new_instances:\n",
    "    instance.wait_until_running()"
   ]
  },
  {
   "cell_type": "code",
   "execution_count": null,
   "metadata": {},
   "outputs": [],
   "source": [
    "# Attach names to new instances.\n",
    "\n",
    "for instance, sample_name in zip(new_instances, samples_to_run):\n",
    "    ec2.create_tags(\n",
    "        Resources=[instance.id],\n",
    "        Tags=[\n",
    "            {\n",
    "                'Key': 'Name',\n",
    "                'Value': sample_name,\n",
    "            },\n",
    "        ],\n",
    "    )"
   ]
  },
  {
   "cell_type": "code",
   "execution_count": null,
   "metadata": {},
   "outputs": [],
   "source": [
    "index_to_fn = {\n",
    "    'mm10': '/home/ubuntu/refdata-cellranger-mm10-1.2.0',\n",
    "    'dummy': '/home/ubuntu/refdata-cellranger-dummy',\n",
    "}           "
   ]
  },
  {
   "cell_type": "code",
   "execution_count": null,
   "metadata": {},
   "outputs": [],
   "source": [
    "for sample_name in samples_to_run:\n",
    "    print(sample_name)\n",
    "    \n",
    "    sample_row = sample_sheet.loc[sample_name]\n",
    "    output_name = sample_row['Output name']\n",
    "    index_fn = index_to_fn[sample_row['index']]\n",
    "\n",
    "    # Initial instance object doesn't have public_dns_name, look up a new one.\n",
    "\n",
    "    sample_name_filter = [\n",
    "        {\n",
    "            'Name': 'tag:Name',\n",
    "            'Values': [\n",
    "                sample_name,\n",
    "            ],\n",
    "        },\n",
    "    ]\n",
    "\n",
    "    instance = list(ec2.instances.filter(Filters=sample_name_filter))[0]\n",
    "\n",
    "    output = f'''\\\n",
    "function mount_data_volume {{\n",
    "    sudo mkfs -t xfs /dev/nvme0n1\n",
    "    sudo mount /dev/nvme0n1 /data\n",
    "    sudo chmod a+rw /data\n",
    "}}\n",
    "\n",
    "function download_data {{\n",
    "    aws s3 cp s3://{data_prefix} /data --recursive --exclude \"*\" --include \"{sample_name}_*\"\n",
    "}}\n",
    "\n",
    "function run_cellranger {{\n",
    "    cd /data\n",
    "    ~/cellranger-2.1.1/cellranger count \\\\\n",
    "        --id={output_name} \\\\\n",
    "        --transcriptome={index_fn} \\\\\n",
    "        --sample {sample_name} \\\\\n",
    "        --fastqs=/data \\\\\n",
    "        --chemistry=SC3Pv2\n",
    "}}\n",
    "\n",
    "function upload_results {{\n",
    "    aws s3 sync /data/{output_name}/outs s3://{data_prefix}/cellranger_output/{output_name}/outs\n",
    "}}\n",
    "\n",
    "function send_email {{\n",
    "    aws --region us-west-2 ses send-email \\\\\n",
    "        --from REDACTED \\\\\n",
    "        --to REDACTED \\\\\n",
    "        --subject \"$1\" \\\\\n",
    "        --text \"$2\"\n",
    "}}\n",
    "\n",
    "export AWS_ACCESS_KEY_ID=REDACTED\n",
    "export AWS_SECRET_ACCESS_KEY=REDACTED\n",
    "\n",
    "mount_data_volume || {{ send_email \"{sample_name} error\" \"{sample_name} mount data failed\" ; exit 1; }}\n",
    "\n",
    "download_data || {{ send_email \"{sample_name} error\" \"{sample_name} download failed\" ; exit 1; }}\n",
    "\n",
    "run_cellranger || {{ send_email \"{sample_name} error\" \"{sample_name} cellranger failed\" ; exit 1; }}\n",
    "\n",
    "upload_results || {{ send_email \"{sample_name} error\" \"{sample_name} upload failed\" ; exit 1; }}\n",
    "\n",
    "send_email \"{sample_name} finished\" \"{sample_name} has finished processing\"\n",
    "\n",
    "sudo shutdown now\n",
    "'''\n",
    "                                                       \n",
    "    script_fn = Path('REDACTED')\n",
    "\n",
    "    with open(script_fn, 'w') as fh:\n",
    "        fh.write(output)\n",
    "\n",
    "    credentials = '-o StrictHostKeyChecking=no -o UserKnownHostsFile=/dev/null -i REDACTED'\n",
    "    \n",
    "    for fn in [script_fn,\n",
    "              ]:\n",
    "        print('\\t', fn)\n",
    "        subprocess.run(f'scp {credentials} {fn} ubuntu@{instance.public_dns_name}:~/{fn.name}',\n",
    "                       shell=True,\n",
    "                       check=True,\n",
    "                      )\n",
    "        \n",
    "    subprocess.run(f'ssh {credentials} ubuntu@{instance.public_dns_name} \"byobu new-session -d -s cellranger\"', shell=True, check=True)\n",
    "    subprocess.run(f'ssh {credentials} ubuntu@{instance.public_dns_name} \\'byobu send-keys \"bash run_cellranger.sh\" C-m\\'', shell=True, check=True)"
   ]
  },
  {
   "cell_type": "code",
   "execution_count": null,
   "metadata": {},
   "outputs": [],
   "source": [
    "def tags_to_dict(tags):\n",
    "    return {d['Key']: d['Value'] for d in tags}\n",
    "\n",
    "with open('REDACTED', 'w') as config_fh:\n",
    "    for instance in ec2.instances.all():\n",
    "        print(instance.id, instance.tags, instance.public_dns_name)\n",
    "        if instance.tags is not None:\n",
    "            sample_name = tags_to_dict(instance.tags)['Name']\n",
    "            config_fh.write(f'''\\\n",
    "Host {sample_name}\n",
    "    Hostname {instance.public_dns_name}\n",
    "    User ubuntu\n",
    "    IdentityFile REDACTED\n",
    "''')"
   ]
  }
 ],
 "metadata": {
  "kernelspec": {
   "display_name": "Python 3.6",
   "language": "python",
   "name": "python3.6"
  },
  "language_info": {
   "codemirror_mode": {
    "name": "ipython",
    "version": 3
   },
   "file_extension": ".py",
   "mimetype": "text/x-python",
   "name": "python",
   "nbconvert_exporter": "python",
   "pygments_lexer": "ipython3",
   "version": "3.6.9"
  }
 },
 "nbformat": 4,
 "nbformat_minor": 4
}
